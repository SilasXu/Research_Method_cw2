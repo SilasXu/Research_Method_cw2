{
 "cells": [
  {
   "cell_type": "code",
   "id": "initial_id",
   "metadata": {
    "collapsed": true,
    "ExecuteTime": {
     "end_time": "2025-04-23T13:15:06.953067Z",
     "start_time": "2025-04-23T13:15:06.802572Z"
    }
   },
   "source": [
    "import pandas as pd\n",
    "import numpy as np\n",
    "df = pd.read_csv('Results_21MAR2022.csv')\n",
    "\n",
    "# 步骤 1：删除标准差列（sd_*）和冗余列\n",
    "clean_df = df.drop(columns=[col for col in df.columns if col.startswith('sd_')] + ['grouping'])\n",
    "\n",
    "# 步骤 2：按关键字段分组聚合（合并不同 mc_run_id）\n",
    "merged_df = clean_df.groupby(['diet_group', 'sex', 'age_group']).agg({\n",
    "    'mean_ghgs': 'mean',\n",
    "    'mean_land': 'mean',\n",
    "    'mean_watscar': 'mean',\n",
    "    'mean_eut': 'mean',\n",
    "    'mean_ghgs_ch4': 'mean',\n",
    "    'mean_ghgs_n2o': 'mean',\n",
    "    'mean_bio': 'mean',\n",
    "    'mean_watuse': 'mean',\n",
    "    'mean_acid': 'mean',\n",
    "    'n_participants': 'sum'  # 样本量累加\n",
    "}).reset_index()\n",
    "\n",
    "# 列名重命名映射字典\n",
    "column_rename = {\n",
    "    \"mean_ghgs\": \"GHG Emissions: (kg CO2e)\",\n",
    "    \"mean_land\": \"Land Use: square meters (m²)\",\n",
    "    \"mean_watscar\": \"Water Scarcity: liters (L)\",\n",
    "    \"mean_eut\": \"Eutrophication: grams of phosphate equivalent (g PO4e)\",\n",
    "    \"mean_ghgs_ch4\": \"GHG Emissions CH₄: (kg CO2e)\",\n",
    "    \"mean_ghgs_n2o\": \"GHG Emissions N₂O: (kg CO2e)\",\n",
    "    \"mean_bio\": \"Biodiversity: potential species extinction (×10⁻¹² species)\",\n",
    "    \"mean_watuse\": \"Water Use: liters (L)\",\n",
    "    \"mean_acid\": \"Acidification: grams of SO₂ equivalent (g SO₂e)\",\n",
    "    \"n_participants\": \"Participants Count\",\n",
    "    \"diet_group\": \"Diet Type\",\n",
    "    \"sex\": \"Gender\"\n",
    "}\n",
    "\n",
    "# 应用列名重命名\n",
    "df = merged_df.rename(columns=column_rename)\n",
    "\n",
    "# 修改 Diet_Type 属性值\n",
    "diet_type_mapping = {\n",
    "    \"fish\": \"Pescatarian\",\n",
    "    \"meat100\": \"High Meat Consumer (≥100g/day)\",\n",
    "    \"meat50\": \"Medium Meat Consumer (50-99g/day)\",\n",
    "    \"meat\": \"Low Meat Consumer (<50g/day)\",\n",
    "    \"vegan\": \"Vegan\",\n",
    "    \"veggie\": \"Vegetarian\"\n",
    "}\n",
    "\n",
    "df[\"Diet Type\"] = df[\"Diet Type\"].replace(diet_type_mapping)\n",
    "\n",
    "# 验证结果\n",
    "print(\"合并后样例：\")\n",
    "print(df.head(3))\n",
    "print(\"\\n合并后维度：\", df.shape)\n",
    "\n",
    "# 保存结果\n",
    "df.to_csv(\"merged_data.csv\", index=False)\n",
    "\n"
   ],
   "outputs": [
    {
     "name": "stdout",
     "output_type": "stream",
     "text": [
      "合并后样例：\n",
      "     Diet Type  Gender age_group  GHG Emissions: (kg CO2e)  \\\n",
      "0  Pescatarian  female     20-29                  4.902947   \n",
      "1  Pescatarian  female     30-39                  4.942664   \n",
      "2  Pescatarian  female     40-49                  4.927040   \n",
      "\n",
      "   Land Use: square meters (m²)  Water Scarcity: liters (L)  \\\n",
      "0                      6.489031                17131.963352   \n",
      "1                      6.515886                17652.628540   \n",
      "2                      6.540682                17729.964756   \n",
      "\n",
      "   Eutrophication: grams of phosphate equivalent (g PO4e)  \\\n",
      "0                                          20.985464        \n",
      "1                                          20.948442        \n",
      "2                                          20.713798        \n",
      "\n",
      "   GHG Emissions CH₄: (kg CO2e)  GHG Emissions N₂O: (kg CO2e)  \\\n",
      "0                      0.842864                      0.322486   \n",
      "1                      0.836500                      0.321971   \n",
      "2                      0.841106                      0.320413   \n",
      "\n",
      "   Biodiversity: potential species extinction (×10⁻¹² species)  \\\n",
      "0                                         248.135212             \n",
      "1                                         249.827684             \n",
      "2                                         252.846922             \n",
      "\n",
      "   Water Use: liters (L)  Acidification: grams of SO₂ equivalent (g SO₂e)  \\\n",
      "0             759.237211                                        22.770956   \n",
      "1             759.629613                                        23.257771   \n",
      "2             748.488755                                        23.470170   \n",
      "\n",
      "   Participants Count  \n",
      "0             1329000  \n",
      "1             2024000  \n",
      "2             1689000  \n",
      "\n",
      "合并后维度： (72, 13)\n"
     ]
    }
   ],
   "execution_count": 3
  },
  {
   "metadata": {
    "ExecuteTime": {
     "end_time": "2025-04-22T18:41:05.867518Z",
     "start_time": "2025-04-22T18:41:05.852568Z"
    }
   },
   "cell_type": "code",
   "source": "",
   "id": "72b766def32e5a3e",
   "outputs": [],
   "execution_count": null
  }
 ],
 "metadata": {
  "kernelspec": {
   "display_name": "Python 3",
   "language": "python",
   "name": "python3"
  },
  "language_info": {
   "codemirror_mode": {
    "name": "ipython",
    "version": 2
   },
   "file_extension": ".py",
   "mimetype": "text/x-python",
   "name": "python",
   "nbconvert_exporter": "python",
   "pygments_lexer": "ipython2",
   "version": "2.7.6"
  }
 },
 "nbformat": 4,
 "nbformat_minor": 5
}
